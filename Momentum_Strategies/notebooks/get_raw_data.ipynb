{
 "cells": [
  {
   "cell_type": "markdown",
   "metadata": {},
   "source": [
    "# Import raw data"
   ]
  },
  {
   "cell_type": "code",
   "execution_count": 5,
   "metadata": {},
   "outputs": [],
   "source": [
    "import sys\n",
    "import os\n",
    "sys.path.append(os.path.abspath(\"../src/data\"))\n",
    "\n",
    "from transform_raw_data import *"
   ]
  },
  {
   "cell_type": "markdown",
   "metadata": {},
   "source": [
    "Path definitions"
   ]
  },
  {
   "cell_type": "code",
   "execution_count": 13,
   "metadata": {},
   "outputs": [],
   "source": [
    "path_to_raw_data = '..//data//external//S&P100_prices.xlsx'\n",
    "path_stock_prices = '..//data//interim//monthly_stock_prices'\n",
    "path_stock_returns_signal = '..//data//processed//stock_returns_signal'\n",
    "path_stock_returns_holding_period = '..//data//processed//stock_returns_holding_period'\n",
    "path_stock_weights = '..//data//processed//stock_weights'\n",
    "path_portfolio_performances = '..//data//processed//portfolio_performances'"
   ]
  },
  {
   "cell_type": "code",
   "execution_count": 14,
   "metadata": {},
   "outputs": [],
   "source": [
    "with open('..//src//features//variables.py', 'w') as f:\n",
    "    f.write(f'path_stock_prices = {repr(path_stock_prices)}\\n')\n",
    "    f.write(f'path_stock_returns_signal = {repr(path_stock_returns_signal)}\\n')\n",
    "    f.write(f'path_stock_returns_holding_period = {repr(path_stock_returns_holding_period)}\\n')\n",
    "    f.write(f'path_stock_weights = {repr(path_stock_weights)}\\n')\n",
    "    f.write(f'path_portfolio_performances = {repr(path_portfolio_performances)}\\n')"
   ]
  },
  {
   "cell_type": "markdown",
   "metadata": {},
   "source": [
    "Get data from excel file"
   ]
  },
  {
   "cell_type": "code",
   "execution_count": 8,
   "metadata": {},
   "outputs": [],
   "source": [
    "get_data(path_to_raw_data, path_stock_prices)"
   ]
  }
 ],
 "metadata": {
  "kernelspec": {
   "display_name": "momentum_strategies_US_stocks",
   "language": "python",
   "name": "python3"
  },
  "language_info": {
   "codemirror_mode": {
    "name": "ipython",
    "version": 3
   },
   "file_extension": ".py",
   "mimetype": "text/x-python",
   "name": "python",
   "nbconvert_exporter": "python",
   "pygments_lexer": "ipython3",
   "version": "3.12.7"
  }
 },
 "nbformat": 4,
 "nbformat_minor": 2
}
