{
 "cells": [
  {
   "cell_type": "markdown",
   "metadata": {},
   "source": [
    "# Import data and calculate monthly returns"
   ]
  },
  {
   "cell_type": "code",
   "execution_count": 1,
   "metadata": {},
   "outputs": [],
   "source": [
    "import sys\n",
    "import os\n",
    "sys.path.append(os.path.abspath(\"../src/features\"))\n",
    "\n",
    "from transform_raw_data import get_data, calculate_stock_returns"
   ]
  },
  {
   "cell_type": "markdown",
   "metadata": {},
   "source": [
    "Path definitions"
   ]
  },
  {
   "cell_type": "code",
   "execution_count": 2,
   "metadata": {},
   "outputs": [],
   "source": [
    "path_to_raw_data = '..//data//external//S&P100_prices.xlsx'\n",
    "saving_path_for_stock_prices_h5 = '..//data//interim//monthly_stock_prices.h5'\n",
    "saving_path_for_stock_returns_h5 = '..//data//interim//monthly_stock_returns.h5'"
   ]
  },
  {
   "cell_type": "code",
   "execution_count": 3,
   "metadata": {},
   "outputs": [],
   "source": [
    "with open('..//src//features//variables.py', 'w') as f:\n",
    "    f.write(f'path_stock_prices = {saving_path_for_stock_prices_h5}\\n')\n",
    "    f.write(f'path_stock_returns = {saving_path_for_stock_returns_h5}\\n')"
   ]
  },
  {
   "cell_type": "markdown",
   "metadata": {},
   "source": [
    "Get data from excel file"
   ]
  },
  {
   "cell_type": "code",
   "execution_count": 3,
   "metadata": {},
   "outputs": [],
   "source": [
    "get_data(path_to_raw_data, saving_path_for_stock_prices_h5)"
   ]
  },
  {
   "cell_type": "markdown",
   "metadata": {},
   "source": [
    "Calculate monthly returns"
   ]
  },
  {
   "cell_type": "code",
   "execution_count": 4,
   "metadata": {},
   "outputs": [],
   "source": [
    "calculate_stock_returns(saving_path_for_stock_prices_h5, saving_path_for_stock_returns_h5)"
   ]
  }
 ],
 "metadata": {
  "kernelspec": {
   "display_name": "momentum_strategies_US_stocks",
   "language": "python",
   "name": "python3"
  },
  "language_info": {
   "codemirror_mode": {
    "name": "ipython",
    "version": 3
   },
   "file_extension": ".py",
   "mimetype": "text/x-python",
   "name": "python",
   "nbconvert_exporter": "python",
   "pygments_lexer": "ipython3",
   "version": "3.12.7"
  }
 },
 "nbformat": 4,
 "nbformat_minor": 2
}
