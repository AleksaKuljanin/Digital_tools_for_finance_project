{
 "cells": [
  {
   "cell_type": "code",
   "execution_count": null,
   "metadata": {
    "vscode": {
     "languageId": "plaintext"
    }
   },
   "outputs": [],
   "source": [
    "# Import necessary libraries\n",
    "import numpy as np\n",
    "import pandas as pd\n",
    "import matplotlib.pyplot as plt"
   ]
  },
  {
   "cell_type": "code",
   "execution_count": null,
   "metadata": {
    "vscode": {
     "languageId": "plaintext"
    }
   },
   "outputs": [],
   "source": [
    "# Import functions and variables\n",
    "import sys\n",
    "import os\n",
    "sys.path.append(os.path.abspath('../src/features'))\n",
    "from signal_calculation import *\n",
    "from variables import *"
   ]
  },
  {
   "cell_type": "code",
   "execution_count": null,
   "metadata": {
    "vscode": {
     "languageId": "plaintext"
    }
   },
   "outputs": [],
   "source": [
    "# Parameter definition\n",
    "lookback_periods = [1, 3, 6, 12]  # Different lookback periods to evaluate\n",
    "number_of_positions = 10\n",
    "holding_period = 6\n",
    "long_only = False"
   ]
  },
  {
   "cell_type": "code",
   "execution_count": null,
   "metadata": {
    "vscode": {
     "languageId": "plaintext"
    }
   },
   "outputs": [],
   "source": [
    "# Load data\n",
    "data_returns_signal = {}\n",
    "for lookback in lookback_periods:\n",
    "    data_returns_signal[lookback] = pd.read_hdf(path_stock_returns_signal + f\"_{lookback}M\", 'df')"
   ]
  },
  {
   "cell_type": "code",
   "execution_count": null,
   "metadata": {
    "vscode": {
     "languageId": "plaintext"
    }
   },
   "outputs": [],
   "source": [
    "# Strategy Evaluation Function\n",
    "def evaluate_momentum_strategy(lookback_period, long_only=True):\n",
    "    \"\"\"\n",
    "    Evaluate a momentum strategy with given parameters.\n",
    "    \"\"\"\n",
    "    # Calculate signals\n",
    "    signals = data_returns_signal[lookback_period]\n",
    "\n",
    "    # Determine stock weights based on the signals\n",
    "    # Sort stocks based on signal strength and assign weights\n",
    "    if long_only:\n",
    "        weights = signals.rank(ascending=False).le(number_of_positions) / number_of_positions\n",
    "    else:\n",
    "        weights = (signals.rank(ascending=False).le(number_of_positions) - signals.rank(ascending=True).le(number_of_positions)) / number_of_positions\n",
    "\n",
    "    # Load returns for the holding period\n",
    "    stock_returns_holding = pd.read_hdf(path_stock_returns_holding_period, 'df')\n",
    "\n",
    "    # Calculate portfolio returns\n",
    "    portfolio_returns = (weights * stock_returns_holding).sum(axis=1)\n",
    "\n",
    "    return portfolio_returns"
   ]
  },
  {
   "cell_type": "code",
   "execution_count": null,
   "metadata": {
    "vscode": {
     "languageId": "plaintext"
    }
   },
   "outputs": [],
   "source": [
    "# Evaluate different momentum strategies and visualize\n",
    "strategy_results = {}\n",
    "plt.figure(figsize=(10, 6))\n",
    "\n",
    "for lookback in lookback_periods:\n",
    "    returns = evaluate_momentum_strategy(lookback, long_only)\n",
    "    strategy_results[lookback] = returns.cumsum()\n",
    "    plt.plot(strategy_results[lookback], label=f'Lookback {lookback}M')\n",
    "\n",
    "plt.title('Momentum Strategy Performance with Different Lookback Periods')\n",
    "plt.xlabel('Time')\n",
    "plt.ylabel('Cumulative Returns')\n",
    "plt.legend()\n",
    "plt.show()"
   ]
  },
  {
   "cell_type": "code",
   "execution_count": null,
   "metadata": {
    "vscode": {
     "languageId": "plaintext"
    }
   },
   "outputs": [],
   "source": [
    "# Summary statistics\n",
    "for lookback, returns in strategy_results.items():\n",
    "    sharpe_ratio = returns.mean() / returns.std() * np.sqrt(12)  # Annualized Sharpe Ratio\n",
    "    print(f\"Lookback Period {lookback}M: Sharpe Ratio = {sharpe_ratio:.2f}\")"
   ]
  },
  {
   "cell_type": "code",
   "execution_count": null,
   "metadata": {
    "vscode": {
     "languageId": "plaintext"
    }
   },
   "outputs": [],
   "source": []
  },
  {
   "cell_type": "code",
   "execution_count": null,
   "metadata": {
    "vscode": {
     "languageId": "plaintext"
    }
   },
   "outputs": [],
   "source": []
  },
  {
   "cell_type": "code",
   "execution_count": null,
   "metadata": {
    "vscode": {
     "languageId": "plaintext"
    }
   },
   "outputs": [],
   "source": []
  }
 ],
 "metadata": {
  "language_info": {
   "name": "python"
  }
 },
 "nbformat": 4,
 "nbformat_minor": 2
}
