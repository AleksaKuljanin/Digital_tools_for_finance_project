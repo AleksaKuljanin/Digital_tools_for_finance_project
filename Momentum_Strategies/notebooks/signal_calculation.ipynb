{
 "cells": [
  {
   "cell_type": "markdown",
   "metadata": {},
   "source": [
    "# Portfolio construction"
   ]
  },
  {
   "cell_type": "code",
   "execution_count": null,
   "metadata": {},
   "outputs": [],
   "source": [
    "import numpy as np\n",
    "import pandas as pd\n",
    "\n",
    "import sys\n",
    "import os\n",
    "sys.path.append(os.path.abspath('../src/features'))\n",
    "\n",
    "from signal_calculation import *\n",
    "from variables import *\n"
   ]
  },
  {
   "cell_type": "markdown",
   "metadata": {},
   "source": [
    "Parameter definition"
   ]
  },
  {
   "cell_type": "code",
   "execution_count": null,
   "metadata": {},
   "outputs": [],
   "source": [
    "long_only = False\n",
    "number_of_positions = 10\n",
    "lookback_periods = [1, 2, 3, 4, 5, 6]\n",
    "holding_period = 6"
   ]
  },
  {
   "cell_type": "code",
   "execution_count": null,
   "metadata": {},
   "outputs": [],
   "source": [
    "signal_calculation(lookback_periods, number_of_positions, holding_period, long_only)"
   ]
  },
  {
   "cell_type": "markdown",
   "metadata": {},
   "source": [
    "# Inspect h5 data files"
   ]
  },
  {
   "cell_type": "markdown",
   "metadata": {},
   "source": [
    "Returns for holding period"
   ]
  },
  {
   "cell_type": "code",
   "execution_count": null,
   "metadata": {},
   "outputs": [],
   "source": [
    "pd.read_hdf(path_stock_returns_holding_period, 'df')"
   ]
  },
  {
   "cell_type": "markdown",
   "metadata": {},
   "source": [
    "Returns for signal for different lookback periods"
   ]
  },
  {
   "cell_type": "code",
   "execution_count": null,
   "metadata": {},
   "outputs": [],
   "source": [
    "# Define the lookback period\n",
    "lookback = 2\n",
    "\n",
    "pd.read_hdf(path_stock_returns_signal + \"_\" + str(lookback) + \"M\", 'df')"
   ]
  },
  {
   "cell_type": "markdown",
   "metadata": {},
   "source": [
    "Stock weights"
   ]
  },
  {
   "cell_type": "code",
   "execution_count": null,
   "metadata": {},
   "outputs": [],
   "source": [
    "# Long only\n",
    "# Define the lookback period\n",
    "lookback = 2\n",
    "\n",
    "pd.read_hdf(path_stock_weights + \"_long_only_\" + str(lookback) + \"M\", 'df')"
   ]
  },
  {
   "cell_type": "code",
   "execution_count": null,
   "metadata": {},
   "outputs": [],
   "source": [
    "# Long Short\n",
    "# Define the lookback period\n",
    "lookback = 2\n",
    "\n",
    "pd.read_hdf(path_stock_weights + \"_long_short_\" + str(lookback) + \"M\", 'df')"
   ]
  },
  {
   "cell_type": "markdown",
   "metadata": {},
   "source": [
    "Portfolio performances"
   ]
  },
  {
   "cell_type": "code",
   "execution_count": null,
   "metadata": {},
   "outputs": [],
   "source": [
    "# Long only\n",
    "# Define the lookback period\n",
    "lookback = 2\n",
    "\n",
    "print(pd.read_hdf(path_portfolio_performances + \"_long_only_\" + str(lookback) + \"M\", 'df'))"
   ]
  }
 ],
 "metadata": {
  "kernelspec": {
   "display_name": "momentum_strategies_US_stocks",
   "language": "python",
   "name": "python3"
  },
  "language_info": {
   "codemirror_mode": {
    "name": "ipython",
    "version": 3
   },
   "file_extension": ".py",
   "mimetype": "text/x-python",
   "name": "python",
   "nbconvert_exporter": "python",
   "pygments_lexer": "ipython3",
   "version": "3.12.7"
  }
 },
 "nbformat": 4,
 "nbformat_minor": 2
}
